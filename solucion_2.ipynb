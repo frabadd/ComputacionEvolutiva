{
  "cells": [
    {
      "cell_type": "markdown",
      "metadata": {},
      "source": [
        "## Importación de Bibliotecas\n",
        "\n",
        "Comenzamos importando las bibliotecas necesarias para desarrollar la solución utilizando programación genética."
      ]
    },
    {
      "cell_type": "code",
      "execution_count": 1,
      "metadata": {
        "colab": {
          "base_uri": "https://localhost:8080/",
          "height": 495
        },
        "id": "Q7-paKl8QrUw",
        "outputId": "12e1c481-bd82-47b6-8ce3-2f1e33bc2d1b"
      },
      "outputs": [],
      "source": [
        "import random\n",
        "import operator\n",
        "import copy\n",
        "import numpy as np\n",
        "import pandas as pd\n",
        "import matplotlib.pyplot as plt\n",
        "import seaborn as sns\n",
        "from sklearn.model_selection import train_test_split\n",
        "from sklearn.metrics import accuracy_score, f1_score"
      ]
    },
    {
      "cell_type": "markdown",
      "metadata": {},
      "source": [
        "---\n",
        "## Carga del Conjunto de Datos\n",
        "\n",
        "Cargamos el conjunto de datos desde un archivo CSV."
      ]
    },
    {
      "cell_type": "code",
      "execution_count": 2,
      "metadata": {},
      "outputs": [],
      "source": [
        "df = pd.read_csv('Datasets/LungCancer.csv')"
      ]
    },
    {
      "cell_type": "markdown",
      "metadata": {},
      "source": [
        "---\n",
        "## Exploración y Visualización de los Datos\n",
        "Para entender mejor nuestros datos, podemos realizar una exploración y visualización inicial."
      ]
    },
    {
      "cell_type": "code",
      "execution_count": 3,
      "metadata": {},
      "outputs": [
        {
          "data": {
            "text/html": [
              "<div>\n",
              "<style scoped>\n",
              "    .dataframe tbody tr th:only-of-type {\n",
              "        vertical-align: middle;\n",
              "    }\n",
              "\n",
              "    .dataframe tbody tr th {\n",
              "        vertical-align: top;\n",
              "    }\n",
              "\n",
              "    .dataframe thead th {\n",
              "        text-align: right;\n",
              "    }\n",
              "</style>\n",
              "<table border=\"1\" class=\"dataframe\">\n",
              "  <thead>\n",
              "    <tr style=\"text-align: right;\">\n",
              "      <th></th>\n",
              "      <th>Sexo</th>\n",
              "      <th>Edad</th>\n",
              "      <th>Fumador</th>\n",
              "      <th>DedosAmarillos</th>\n",
              "      <th>Ansiedad</th>\n",
              "      <th>Hipertension</th>\n",
              "      <th>EnfermedadCronica</th>\n",
              "      <th>Fatiga</th>\n",
              "      <th>Alergia</th>\n",
              "      <th>Silbidos</th>\n",
              "      <th>ConsumidorAlcohol</th>\n",
              "      <th>Tos</th>\n",
              "      <th>DificultadRespirar</th>\n",
              "      <th>DificultadTragar</th>\n",
              "      <th>DolorPecho</th>\n",
              "      <th>CancerPulmon</th>\n",
              "    </tr>\n",
              "  </thead>\n",
              "  <tbody>\n",
              "    <tr>\n",
              "      <th>0</th>\n",
              "      <td>M</td>\n",
              "      <td>69</td>\n",
              "      <td>0</td>\n",
              "      <td>1</td>\n",
              "      <td>1</td>\n",
              "      <td>0</td>\n",
              "      <td>0</td>\n",
              "      <td>1</td>\n",
              "      <td>0</td>\n",
              "      <td>1</td>\n",
              "      <td>1</td>\n",
              "      <td>1</td>\n",
              "      <td>1</td>\n",
              "      <td>1</td>\n",
              "      <td>1</td>\n",
              "      <td>1</td>\n",
              "    </tr>\n",
              "    <tr>\n",
              "      <th>1</th>\n",
              "      <td>M</td>\n",
              "      <td>74</td>\n",
              "      <td>1</td>\n",
              "      <td>0</td>\n",
              "      <td>0</td>\n",
              "      <td>0</td>\n",
              "      <td>1</td>\n",
              "      <td>1</td>\n",
              "      <td>1</td>\n",
              "      <td>0</td>\n",
              "      <td>0</td>\n",
              "      <td>0</td>\n",
              "      <td>1</td>\n",
              "      <td>1</td>\n",
              "      <td>1</td>\n",
              "      <td>1</td>\n",
              "    </tr>\n",
              "    <tr>\n",
              "      <th>2</th>\n",
              "      <td>F</td>\n",
              "      <td>59</td>\n",
              "      <td>0</td>\n",
              "      <td>0</td>\n",
              "      <td>0</td>\n",
              "      <td>1</td>\n",
              "      <td>0</td>\n",
              "      <td>1</td>\n",
              "      <td>0</td>\n",
              "      <td>1</td>\n",
              "      <td>0</td>\n",
              "      <td>1</td>\n",
              "      <td>1</td>\n",
              "      <td>0</td>\n",
              "      <td>1</td>\n",
              "      <td>0</td>\n",
              "    </tr>\n",
              "    <tr>\n",
              "      <th>3</th>\n",
              "      <td>M</td>\n",
              "      <td>63</td>\n",
              "      <td>1</td>\n",
              "      <td>1</td>\n",
              "      <td>1</td>\n",
              "      <td>0</td>\n",
              "      <td>0</td>\n",
              "      <td>0</td>\n",
              "      <td>0</td>\n",
              "      <td>0</td>\n",
              "      <td>1</td>\n",
              "      <td>0</td>\n",
              "      <td>0</td>\n",
              "      <td>1</td>\n",
              "      <td>1</td>\n",
              "      <td>0</td>\n",
              "    </tr>\n",
              "    <tr>\n",
              "      <th>4</th>\n",
              "      <td>F</td>\n",
              "      <td>63</td>\n",
              "      <td>0</td>\n",
              "      <td>1</td>\n",
              "      <td>0</td>\n",
              "      <td>0</td>\n",
              "      <td>0</td>\n",
              "      <td>0</td>\n",
              "      <td>0</td>\n",
              "      <td>1</td>\n",
              "      <td>0</td>\n",
              "      <td>1</td>\n",
              "      <td>1</td>\n",
              "      <td>0</td>\n",
              "      <td>0</td>\n",
              "      <td>0</td>\n",
              "    </tr>\n",
              "  </tbody>\n",
              "</table>\n",
              "</div>"
            ],
            "text/plain": [
              "  Sexo  Edad  Fumador  DedosAmarillos  Ansiedad  Hipertension  \\\n",
              "0    M    69        0               1         1             0   \n",
              "1    M    74        1               0         0             0   \n",
              "2    F    59        0               0         0             1   \n",
              "3    M    63        1               1         1             0   \n",
              "4    F    63        0               1         0             0   \n",
              "\n",
              "   EnfermedadCronica  Fatiga  Alergia  Silbidos  ConsumidorAlcohol  Tos  \\\n",
              "0                  0       1        0         1                  1    1   \n",
              "1                  1       1        1         0                  0    0   \n",
              "2                  0       1        0         1                  0    1   \n",
              "3                  0       0        0         0                  1    0   \n",
              "4                  0       0        0         1                  0    1   \n",
              "\n",
              "   DificultadRespirar  DificultadTragar  DolorPecho  CancerPulmon  \n",
              "0                   1                 1           1             1  \n",
              "1                   1                 1           1             1  \n",
              "2                   1                 0           1             0  \n",
              "3                   0                 1           1             0  \n",
              "4                   1                 0           0             0  "
            ]
          },
          "execution_count": 3,
          "metadata": {},
          "output_type": "execute_result"
        }
      ],
      "source": [
        "df.head()"
      ]
    },
    {
      "cell_type": "code",
      "execution_count": 4,
      "metadata": {},
      "outputs": [
        {
          "name": "stdout",
          "output_type": "stream",
          "text": [
            "<class 'pandas.core.frame.DataFrame'>\n",
            "RangeIndex: 284 entries, 0 to 283\n",
            "Data columns (total 16 columns):\n",
            " #   Column              Non-Null Count  Dtype \n",
            "---  ------              --------------  ----- \n",
            " 0   Sexo                284 non-null    object\n",
            " 1   Edad                284 non-null    int64 \n",
            " 2   Fumador             284 non-null    int64 \n",
            " 3   DedosAmarillos      284 non-null    int64 \n",
            " 4   Ansiedad            284 non-null    int64 \n",
            " 5   Hipertension        284 non-null    int64 \n",
            " 6   EnfermedadCronica   284 non-null    int64 \n",
            " 7   Fatiga              284 non-null    int64 \n",
            " 8   Alergia             284 non-null    int64 \n",
            " 9   Silbidos            284 non-null    int64 \n",
            " 10  ConsumidorAlcohol   284 non-null    int64 \n",
            " 11  Tos                 284 non-null    int64 \n",
            " 12  DificultadRespirar  284 non-null    int64 \n",
            " 13  DificultadTragar    284 non-null    int64 \n",
            " 14  DolorPecho          284 non-null    int64 \n",
            " 15  CancerPulmon        284 non-null    int64 \n",
            "dtypes: int64(15), object(1)\n",
            "memory usage: 35.6+ KB\n"
          ]
        }
      ],
      "source": [
        "df.info()"
      ]
    },
    {
      "cell_type": "markdown",
      "metadata": {},
      "source": [
        "---\n",
        "## Preprocesamiento de Datos\n",
        "\n",
        "Definimos una función para convertir los atributos del DataFrame a variables binarias o aplicar one-hot encoding, sin modificar los atributos que ya son binarios"
      ]
    },
    {
      "cell_type": "code",
      "execution_count": 5,
      "metadata": {},
      "outputs": [],
      "source": [
        "def convert_to_binary(df):\n",
        "    \"\"\"\n",
        "    Convierte los atributos de un DataFrame a binarios o one-hot,\n",
        "    sin modificar los atributos que ya son binarios.\n",
        "\n",
        "    Parámetros:\n",
        "    df : pd.DataFrame\n",
        "        El DataFrame a convertir.\n",
        "\n",
        "    Retorna:\n",
        "    pd.DataFrame\n",
        "        Un nuevo DataFrame con las columnas convertidas a formato binario o one-hot.\n",
        "    \"\"\"\n",
        "    df_binary = df.copy()\n",
        "\n",
        "    for column in df_binary.columns:\n",
        "        # Verifica si la columna es binaria (0/1)\n",
        "        if df_binary[column].dtype in ['int64', 'float64']:\n",
        "            if df_binary[column].nunique() == 2:\n",
        "                df_binary[column].astype(int)  # No modificar columnas binarias\n",
        "            elif df_binary[column].nunique() > 3:\n",
        "                # Aplica binning y luego one-hot\n",
        "                df_binned = pd.cut(df_binary[column], bins=3, labels=False)\n",
        "                df_one_hot = pd.get_dummies(df_binned, prefix=column)\n",
        "                df_binary = pd.concat([df_binary, df_one_hot], axis=1).astype(int)\n",
        "                df_binary.drop(column, axis=1, inplace=True)\n",
        "            else:\n",
        "                # Aplica one-hot directamente\n",
        "                df_one_hot = pd.get_dummies(df_binary[column], prefix=column)\n",
        "                df_binary = pd.concat([df_binary, df_one_hot], axis=1).astype(int)\n",
        "                df_binary.drop(column, axis=1, inplace=True)\n",
        "        elif df_binary[column].dtype == 'object':\n",
        "            # Si la columna es categórica, aplica one-hot\n",
        "            df_one_hot = pd.get_dummies(df_binary[column], prefix=column)\n",
        "            df_binary = pd.concat([df_binary, df_one_hot], axis=1)\n",
        "            df_binary.drop(column, axis=1, inplace=True)\n",
        "\n",
        "    return df_binary"
      ]
    },
    {
      "cell_type": "code",
      "execution_count": 6,
      "metadata": {},
      "outputs": [
        {
          "data": {
            "text/plain": [
              "Index(['Fumador', 'DedosAmarillos', 'Ansiedad', 'Hipertension',\n",
              "       'EnfermedadCronica', 'Fatiga', 'Alergia', 'Silbidos',\n",
              "       'ConsumidorAlcohol', 'Tos', 'DificultadRespirar', 'DificultadTragar',\n",
              "       'DolorPecho', 'CancerPulmon', 'Sexo_F', 'Sexo_M', 'Edad_0', 'Edad_1',\n",
              "       'Edad_2'],\n",
              "      dtype='object')"
            ]
          },
          "execution_count": 6,
          "metadata": {},
          "output_type": "execute_result"
        }
      ],
      "source": [
        "df = convert_to_binary(df)\n",
        "df.columns"
      ]
    },
    {
      "cell_type": "markdown",
      "metadata": {},
      "source": [
        "---\n",
        "## División de Datos en Entrenamiento y Prueba\n",
        "\n",
        "Dividimos los datos en conjuntos de entrenamiento y prueba para evaluar el rendimiento del modelo"
      ]
    },
    {
      "cell_type": "code",
      "execution_count": 7,
      "metadata": {},
      "outputs": [
        {
          "name": "stdout",
          "output_type": "stream",
          "text": [
            "227 57\n"
          ]
        }
      ],
      "source": [
        "X = df.iloc[:, :-1].values\n",
        "Y = df.iloc[:, -1].values\n",
        "\n",
        "Xtrain, Xtest, Ytrain, Ytest = train_test_split(X, Y, test_size=0.2, random_state=10, stratify = Y)\n",
        "\n",
        "print(len(Xtrain), len(Xtest))"
      ]
    },
    {
      "cell_type": "markdown",
      "metadata": {},
      "source": [
        "---\n",
        "## Definición de los operadores lógicos\n",
        "\n",
        "Definimos los operadores lógicos que vamos a utilizar para generar los individuos. Los individuos consisten en árboles de decisión formados por operadores y atributos."
      ]
    },
    {
      "cell_type": "code",
      "execution_count": 8,
      "metadata": {},
      "outputs": [],
      "source": [
        "OPERATORS = {\n",
        "    'AND': operator.and_,\n",
        "    'OR': operator.or_,\n",
        "    'NOT': lambda x: not x \n",
        "}"
      ]
    },
    {
      "cell_type": "markdown",
      "metadata": {},
      "source": [
        "---\n",
        "## Clase para representar un nodo del árbol\n",
        "\n",
        "Creamos una clase para representar un nodo del árbol. La clase contiene métodos para evaluar el nodo de forma recursiva, para hacer copias profundas recurisvamente del nodo actual sin compartir las referencias de sus nodos hijos, representar el nodo como una cadena e imprimir el árbol creado de forma visual."
      ]
    },
    {
      "cell_type": "code",
      "execution_count": 9,
      "metadata": {
        "colab": {
          "base_uri": "https://localhost:8080/"
        },
        "id": "qmbJy-mCQZRi",
        "outputId": "3070317d-44ae-4565-c985-c60584da76a7"
      },
      "outputs": [],
      "source": [
        "class Node:\n",
        "    def __init__(self, value, left=None, right=None, depth = 0):\n",
        "        self.depth = depth\n",
        "        self.value = value\n",
        "        self.left = left\n",
        "        self.right = right\n",
        "    def evaluate(self, variables):\n",
        "        if self.value in OPERATORS: \n",
        "            if self.value == 'NOT':\n",
        "                return OPERATORS[self.value](self.left.evaluate(variables))\n",
        "            else:\n",
        "                return OPERATORS[self.value](self.left.evaluate(variables), self.right.evaluate(variables))\n",
        "        else:\n",
        "            return variables[self.value]\n",
        "\n",
        "    def copy(self):\n",
        "        new_node = Node(self.value, depth=self.depth)\n",
        "\n",
        "        if self.left:\n",
        "            new_node.left = self.left.copy()\n",
        "        if self.right:\n",
        "            new_node.right = self.right.copy()\n",
        "\n",
        "        return new_node\n",
        "\n",
        "    def __str__(self):\n",
        "        if self.value in OPERATORS:\n",
        "            if self.value == 'NOT':\n",
        "                return f\"(NOT {self.left})\"\n",
        "            return f\"({self.left} {self.value} {self.right})\"\n",
        "        else:\n",
        "            return str(self.value)\n",
        "\n",
        "    def print_tree(self, level=0):\n",
        "        indent = \"    \" * level  \n",
        "        print(f\" {self.value}\")\n",
        "\n",
        "        if self.left and self.right:\n",
        "            if self.left:\n",
        "                print(f\"{indent}├──\", end=\"\")\n",
        "                self.left.print_tree(level + 1)\n",
        "            if self.right:\n",
        "                print(f\"{indent}└──\", end=\"\")\n",
        "                self.right.print_tree(level + 1)\n",
        "\n",
        "        elif self.left:\n",
        "            print(f\"{indent}└──\", end=\"\") \n",
        "            self.left.print_tree(level + 1)\n",
        "\n",
        "        elif self.right:\n",
        "            print(f\"{indent}└──\", end=\"\") \n",
        "            self.right.print_tree(level + 1)"
      ]
    },
    {
      "cell_type": "markdown",
      "metadata": {},
      "source": [
        "---\n",
        "## Función para generar un árbol de operadores aleatorio\n",
        "\n",
        "Definimos una función que crea un árbol aleatorio con una profundidad definida a partir de los operadores y los Nodos definidos anteriormente."
      ]
    },
    {
      "cell_type": "code",
      "execution_count": 10,
      "metadata": {},
      "outputs": [],
      "source": [
        "def generate_random_tree(variables, max_depth=3, actual_depth = 0):\n",
        "    if max_depth == 0 or (max_depth > 0 and random.random() < 0.3): \n",
        "        return Node(random.choice(variables), depth = actual_depth ) \n",
        "    else:\n",
        "        operator = random.choice(list(OPERATORS.keys())) \n",
        "        if operator == 'NOT':\n",
        "            return Node(operator, left=generate_random_tree(variables, max_depth-1, actual_depth+1), depth = actual_depth) \n",
        "        else:\n",
        "            return Node(operator, left=generate_random_tree(variables, max_depth-1, actual_depth+1),\n",
        "                        right=generate_random_tree(variables, max_depth-1, actual_depth+1), depth = actual_depth)\n"
      ]
    },
    {
      "cell_type": "markdown",
      "metadata": {},
      "source": [
        "---\n",
        "## Función para Transformar los Datos en Diccionarios\n",
        "\n",
        "Definimos una función  para convertir las filas de las matrices Xtrain y Xtest en listas de diccionarios, mapeando cada valor de la fila a una clave de la forma 'x1', 'x2', etc., para facilitar su uso en el algoritmo."
      ]
    },
    {
      "cell_type": "code",
      "execution_count": 11,
      "metadata": {
        "id": "QRifg27SW2aP"
      },
      "outputs": [],
      "source": [
        "def generate_mapping(individuo):\n",
        "    assigment = {}\n",
        "    for i in range(len(individuo)):\n",
        "        assigment['x'+str(i+1)] = individuo[i]\n",
        "    return assigment\n",
        "\n",
        "XtrainDict = []\n",
        "for i in range(len(Xtrain)):\n",
        "    XtrainDict.append(generate_mapping(Xtrain[i]))\n",
        "XtestDict = []\n",
        "for i in range(len(Xtest)):\n",
        "    XtestDict.append(generate_mapping(Xtest[i]))\n"
      ]
    },
    {
      "cell_type": "markdown",
      "metadata": {},
      "source": [
        "---\n",
        "## Función de Generación de Población\n",
        "\n",
        "Definimos una función para crear una población inicial de árboles aleatorios usando las variables de Xtrain y devuelve esta población junto con las variables para su posterior uso en el algoritmo."
      ]
    },
    {
      "cell_type": "code",
      "execution_count": 12,
      "metadata": {
        "id": "rI3QEOXfV22v"
      },
      "outputs": [],
      "source": [
        "def generate_population(population_size, max_depth = 6):\n",
        "    population = []\n",
        "    variables = []\n",
        "    for i in range(len(Xtrain[1])):\n",
        "        variables.append('x'+str(i+1))\n",
        "    for i in range(population_size):\n",
        "        population.append(generate_random_tree(variables, max_depth=max_depth))\n",
        "    return population, variables"
      ]
    },
    {
      "cell_type": "markdown",
      "metadata": {},
      "source": [
        "---\n",
        "## Funciones de Cálculo de Aptitud\n",
        "\n",
        "Definimos funciones para calcular la aptitud de la población y de un individuo. La aptitud se basa en la puntuación F1 o exactitud.\n"
      ]
    },
    {
      "cell_type": "code",
      "execution_count": 13,
      "metadata": {
        "id": "yrJqvU5IQtxc"
      },
      "outputs": [],
      "source": [
        "def fitness_poblacion(poblacion, umbral = 0.5, metrica = 'f1'):\n",
        "  predicciones = np.empty((len(Xtrain),len(poblacion)))\n",
        "  for i in range(len(poblacion)):\n",
        "    for j in range(len(Xtrain)):\n",
        "      predicciones[j,i] = poblacion[i].evaluate(XtrainDict[j])\n",
        "  y_pred = (predicciones >= umbral).astype(int)\n",
        "  y_true = Ytrain\n",
        "  scores = np.empty(y_pred.shape[1])\n",
        "\n",
        "  if metrica == 'f1':\n",
        "    for i in range(y_pred.shape[1]):\n",
        "      tp = np.sum((y_true == 1) & (y_pred[:,i] == 1))\n",
        "\n",
        "      fp = np.sum((y_true == 0) & (y_pred[:,i] == 1))\n",
        "\n",
        "      fn = np.sum((y_true == 1) & (y_pred[:,i] == 0))\n",
        "\n",
        "      precision = tp / (tp + fp) if (tp + fp) > 0 else 0\n",
        "      recall = tp / (tp + fn) if (tp + fn) > 0 else 0\n",
        "\n",
        "      if precision + recall == 0:\n",
        "          scores[i] = 0\n",
        "      else:\n",
        "        scores[i] = 2 * (precision * recall) / (precision + recall)\n",
        "\n",
        "  elif metrica == 'acc':\n",
        "    for i in range(y_pred.shape[1]):\n",
        "      correct_predictions = np.sum(y_true == y_pred[:,i])\n",
        "\n",
        "      scores[i] = correct_predictions / len(y_true)\n",
        "\n",
        "  return scores\n",
        "\n",
        "def fitness(individuo, umbral = 0.5, metrica = 'f1'):\n",
        "  probs = np.empty(len(Xtrain))\n",
        "  for j in range(len(Xtrain)):\n",
        "      probs[j] = individuo.evaluate(XtrainDict[j])\n",
        "  y_pred = (probs >= umbral).astype(int)\n",
        "  y_true = Ytrain\n",
        "  if metrica == 'f1':\n",
        "    tp = np.sum((y_true == 1) & (y_pred == 1))\n",
        "\n",
        "    fp = np.sum((y_true == 0) & (y_pred == 1))\n",
        "\n",
        "    fn = np.sum((y_true == 1) & (y_pred == 0))\n",
        "\n",
        "    precision = tp / (tp + fp) if (tp + fp) > 0 else 0\n",
        "    recall = tp / (tp + fn) if (tp + fn) > 0 else 0\n",
        "\n",
        "    if precision + recall == 0:\n",
        "        return 0.0\n",
        "    return 2 * (precision * recall) / (precision + recall)\n",
        "\n",
        "  elif metrica == 'acc':\n",
        "    return np.sum(y_true == y_pred) / len(y_true)\n"
      ]
    },
    {
      "cell_type": "markdown",
      "metadata": {},
      "source": [
        "---\n",
        "## Función de Selección\n",
        "\n",
        "Implementamos la selección por torneo para seleccionar individuos para la reproducción."
      ]
    },
    {
      "cell_type": "code",
      "execution_count": 14,
      "metadata": {
        "id": "njF_yCJM3bub"
      },
      "outputs": [],
      "source": [
        "def seleccion_torneo(fitnessPoblacion, poblacion, k):\n",
        "    \"\"\"\n",
        "    Selección por torneo para algoritmos genéticos.\n",
        "\n",
        "    :param poblacion: numpy array, la población de soluciones\n",
        "    :param fitnessPoblacion: numpy array, la evaluación de aptitud de cada solución en la población\n",
        "    :param k: int, el tamaño del torneo\n",
        "    :return: numpy array, la población seleccionada después del torneo\n",
        "    \"\"\"\n",
        "    seleccionados = []\n",
        "    for _ in range(len(poblacion)):\n",
        "        indices_torneo = np.random.choice(len(poblacion), k, replace=False)\n",
        "        ganador = indices_torneo[np.argmax(fitnessPoblacion[indices_torneo])]\n",
        "        seleccionados.append(poblacion[ganador])\n",
        "\n",
        "    return np.array(seleccionados)"
      ]
    },
    {
      "cell_type": "markdown",
      "metadata": {},
      "source": [
        "---\n",
        "## Funciones Auxiliares\n",
        "\n",
        "A continuación, definimos la profunidad máxima permitida para los árboles y creamos funciones que nos ayudarán en las operaciones de mutación y cruce, estas funciones sirven para calcular la profundidad de un árbol, contar el número de nodos de un árbol o subárbol, contar el número de operadores y operandos y obtener un nodo de forma aleatoria."
      ]
    },
    {
      "cell_type": "code",
      "execution_count": 15,
      "metadata": {},
      "outputs": [],
      "source": [
        "MAX_DEPTH = Xtrain.shape[1]//2\n",
        "def tree_depth(node):\n",
        "    if node is None:\n",
        "        return 0\n",
        "    elif node.left is None and node.right is None:\n",
        "        return 1\n",
        "    else:\n",
        "        left_depth = tree_depth(node.left) if node.left else 0\n",
        "        right_depth = tree_depth(node.right) if node.right else 0\n",
        "        return 1 + max(left_depth, right_depth)\n",
        "\n",
        "def count_nodes(node):\n",
        "    if node is None:\n",
        "        return 0\n",
        "    return 1 + count_nodes(node.left) + count_nodes(node.right)\n",
        "\n",
        "def contar_operandos_y_operadores(nodo):\n",
        "    \"\"\"\n",
        "    Función recursiva que cuenta cuántos operandos (hojas) y operadores (nodos internos)\n",
        "    hay en un árbol binario.\n",
        "\n",
        "    Devuelve una tupla (num_operandos, num_operadores).\n",
        "    \"\"\"\n",
        "    if nodo is None:\n",
        "        return (0, 0) \n",
        "\n",
        "    if not nodo.left and not nodo.right:\n",
        "        return (1, 0)  \n",
        "\n",
        "    num_operandos_izq, num_operadores_izq = contar_operandos_y_operadores(nodo.left)\n",
        "    num_operandos_der, num_operadores_der = contar_operandos_y_operadores(nodo.right)\n",
        "\n",
        "    num_operadores = 1 + num_operadores_izq + num_operadores_der\n",
        "    num_operandos = num_operandos_izq + num_operandos_der\n",
        "\n",
        "    return (num_operandos, num_operadores)\n",
        "\n",
        "def get_random_node(node, depth=0, max_depth=MAX_DEPTH):\n",
        "    num_operandos, num_operadores = contar_operandos_y_operadores(node)\n",
        "    \"\"\"\n",
        "    Escoge un nodo aleatorio en el árbol, asegurando que cada nodo tenga una probabilidad similar de ser elegido.\n",
        "    \"\"\"\n",
        "    if depth >= max_depth or (not node.left and not node.right):\n",
        "        return node\n",
        "\n",
        "    left_count = count_nodes(node.left) if node.left else 0\n",
        "    right_count = count_nodes(node.right) if node.right else 0\n",
        "    total_count = 1 + left_count + right_count \n",
        "\n",
        "    choice = random.randint(1, total_count)  \n",
        "    if choice == 1:\n",
        "        return node  \n",
        "    elif choice <= 1 + left_count:\n",
        "        return get_random_node(node.left, depth+1, max_depth) \n",
        "    else:\n",
        "        return get_random_node(node.right, depth+1, max_depth)\n"
      ]
    },
    {
      "cell_type": "markdown",
      "metadata": {},
      "source": [
        "---\n",
        "## Funciones de Mutación\n",
        "\n",
        " Creamos las funciones de mutación diferentes. La primera se encarga de mutar los operadores del árbol, mientras que con la segunda mutamos sus operandos, en ambos casos se sustituyen de forma aleatoria, la función mutation_tree selecciona de forma aleatoria uno de los dos métodos de mutación que acabamos de crear."
      ]
    },
    {
      "cell_type": "code",
      "execution_count": 16,
      "metadata": {
        "id": "syRg7wRX4B_O"
      },
      "outputs": [],
      "source": [
        "def mutate_operator(node):\n",
        "    if node.value in OPERATORS: \n",
        "        possible_operators = list(OPERATORS.keys())\n",
        "        possible_operators.remove(node.value) \n",
        "        node.value = random.choice(possible_operators)\n",
        "    return node\n",
        "\n",
        "def mutate_operand(node, variables):\n",
        "    if node.value not in OPERATORS: \n",
        "        possible_variables = variables[:]\n",
        "        possible_variables.remove(node.value) \n",
        "        node.value = random.choice(possible_variables) \n",
        "    return node\n",
        "\n",
        "def mutate_tree(node, variables, max_depth= MAX_DEPTH):\n",
        "  if np.random.rand() < 0.1:\n",
        "    mutation = np.random.choice([0,1])\n",
        "    node = get_random_node(node).copy()\n",
        "    if mutation == 0:\n",
        "      if not node.left and not node.right:\n",
        "        node = mutate_operand(node, variables)\n",
        "      else:\n",
        "        node = mutate_operator(node)\n",
        "      return node\n",
        "    else:\n",
        "      random = generate_random_tree(variables, max_depth=max_depth)\n",
        "      node.value = random.value\n",
        "      node.left = random.left\n",
        "      node.right = random.right\n",
        "      return node"
      ]
    },
    {
      "cell_type": "markdown",
      "metadata": {},
      "source": [
        "---\n",
        "## Función de Cruce\n",
        "\n",
        "Implementamos el cruce entre dos árboles, estos intercambian subárboles aleatorios creando así dos hijos, asegurándose de que no se excede la profundidad máxima definida."
      ]
    },
    {
      "cell_type": "code",
      "execution_count": 17,
      "metadata": {},
      "outputs": [],
      "source": [
        "\n",
        "def crossover(tree1, tree2, max_depth=MAX_DEPTH):\n",
        "    subtree1 = get_random_node(tree1, max_depth=max_depth)\n",
        "    subtree2 = get_random_node(tree2, max_depth=max_depth)\n",
        "\n",
        "    depth_subtree1 = tree_depth(subtree1)\n",
        "    depth_subtree2 = tree_depth(subtree2)\n",
        "\n",
        "    if depth_subtree1 + tree_depth(tree2) <= max_depth and depth_subtree2 + tree_depth(tree1) <= max_depth:\n",
        "        subtree1.value, subtree2.value = subtree2.value, subtree1.value\n",
        "        subtree1.left, subtree2.left = subtree2.left, subtree1.left\n",
        "        subtree1.right, subtree2.right = subtree2.right, subtree1.right\n",
        "    else:\n",
        "      count = 0\n",
        "      while(depth_subtree1 + tree_depth(tree2) <= max_depth and depth_subtree2 + tree_depth(tree1) <= max_depth and count < 10):\n",
        "          subtree1 = get_random_node(tree1, max_depth=max_depth)\n",
        "          subtree2 = get_random_node(tree2, max_depth=max_depth)\n",
        "          count += 1\n",
        "      subtree1.value, subtree2.value = subtree2.value, subtree1.value\n",
        "      subtree1.left, subtree2.left = subtree2.left, subtree1.left\n",
        "      subtree1.right, subtree2.right = subtree2.right, subtree1.right\n",
        "    return tree1, tree2"
      ]
    },
    {
      "cell_type": "markdown",
      "metadata": {},
      "source": [
        "---\n",
        "## Comprobación de Cruce\n",
        "\n",
        "Con este código nos aseguramos de que los cruces se realizan como es debido, de forma visual."
      ]
    },
    {
      "cell_type": "code",
      "execution_count": 18,
      "metadata": {},
      "outputs": [
        {
          "name": "stdout",
          "output_type": "stream",
          "text": [
            " OR\n",
            "├── AND\n",
            "    ├── x16\n",
            "    └── NOT\n",
            "        └── x6\n",
            "└── x16\n",
            "---------------------------\n",
            " AND\n",
            "├── NOT\n",
            "    └── AND\n",
            "        ├── x14\n",
            "        └── x5\n",
            "└── OR\n",
            "    ├── NOT\n",
            "        └── x9\n",
            "    └── NOT\n",
            "        └── x10\n",
            "---------------------------\n",
            " OR\n",
            "├── AND\n",
            "    ├── x16\n",
            "    └── NOT\n",
            "        └── x6\n",
            "└── x9\n",
            "---------------------------\n",
            " AND\n",
            "├── NOT\n",
            "    └── AND\n",
            "        ├── x14\n",
            "        └── x5\n",
            "└── OR\n",
            "    ├── NOT\n",
            "        └── x16\n",
            "    └── NOT\n",
            "        └── x10\n"
          ]
        }
      ],
      "source": [
        "random.seed(10)\n",
        "poblacion, variables = generate_population(2, 3)\n",
        "poblacion[0].print_tree()\n",
        "print(\"---------------------------\")\n",
        "poblacion[1].print_tree()\n",
        "print(\"---------------------------\")\n",
        "hijo1, hijo2 = crossover(poblacion[0].copy(), poblacion[1].copy(), max_depth= 6)\n",
        "hijo1.print_tree()\n",
        "print(\"---------------------------\")\n",
        "hijo2.print_tree()"
      ]
    },
    {
      "cell_type": "markdown",
      "metadata": {},
      "source": [
        "---\n",
        "## Funciones de Evaluación\n",
        "\n",
        "Se define la función para evaluar el modelo en el conjunto de test, usando la métrica f1 por defecto pero también con la opción de usar la métrica de exactitud."
      ]
    },
    {
      "cell_type": "code",
      "execution_count": 19,
      "metadata": {},
      "outputs": [],
      "source": [
        "def evaluate(goat, umbral = 0.5, metrica = 'f1'):\n",
        "  probs = np.empty(len(Xtest))\n",
        "  for j in range(len(Xtest)):\n",
        "      probs[j] = goat.evaluate(XtestDict[j])\n",
        "  y_pred = (probs >= umbral).astype(int)\n",
        "  y_true = Ytest\n",
        "  if metrica == 'f1':\n",
        "    tp = np.sum((y_true == 1) & (y_pred == 1))\n",
        "\n",
        "    fp = np.sum((y_true == 0) & (y_pred == 1))\n",
        "\n",
        "    fn = np.sum((y_true == 1) & (y_pred == 0))\n",
        "\n",
        "    precision = tp / (tp + fp) if (tp + fp) > 0 else 0\n",
        "    recall = tp / (tp + fn) if (tp + fn) > 0 else 0\n",
        "\n",
        "    if precision + recall == 0:\n",
        "        return 0.0\n",
        "    return 2 * (precision * recall) / (precision + recall)\n",
        "\n",
        "  elif metrica == 'acc':\n",
        "    return np.sum(y_true == y_pred) / len(y_true)\n"
      ]
    },
    {
      "cell_type": "markdown",
      "metadata": {},
      "source": [
        "---\n",
        "## Función Main\n",
        "\n",
        "Definimos la función main que ejecuta el algoritmo genético. Almacena el valor del mejor individuo y evalúa su fitnes y su F1 en test. Además se devuelve el dibujo del mejor individuo junto con su expresión. "
      ]
    },
    {
      "cell_type": "code",
      "execution_count": 20,
      "metadata": {
        "colab": {
          "base_uri": "https://localhost:8080/"
        },
        "id": "QVhExxz45LzV",
        "outputId": "d54d9970-a1d3-422e-c7b1-2723f69552a8"
      },
      "outputs": [],
      "source": [
        "def main():\n",
        "  num_generaciones = 120\n",
        "\n",
        "  iter_por_fase = num_generaciones // 20\n",
        "  gen_actual = 0\n",
        "  profundidad_init = Xtrain.shape[1]//2\n",
        "  poblacion, variables = generate_population(10, profundidad_init)\n",
        "  goat = generate_random_tree(variables, max_depth=1)\n",
        "  elitismo =  True\n",
        "  fitnessPob = 0\n",
        "  max_fit = 0\n",
        "  rng = np.random.default_rng()\n",
        "  while (num_generaciones > gen_actual and np.max(fitnessPob) < 1.0):\n",
        "\n",
        "    fitnessPob =  fitness_poblacion(poblacion, umbral = 0.5, metrica = 'acc')\n",
        "    if max_fit < np.max(fitnessPob):\n",
        "        goat = poblacion[np.argmax(fitnessPob)].copy()\n",
        "        max_fit = np.max(fitnessPob)\n",
        "\n",
        "    seleccionados = seleccion_torneo(fitnessPob, poblacion, 2 + (gen_actual % iter_por_fase))\n",
        "\n",
        "    hijos = []\n",
        "    indices = np.arange(len(seleccionados))\n",
        "    rng.shuffle(indices)\n",
        "\n",
        "    for i in range(0, len(seleccionados), 2):\n",
        "      padre1, padre2 = indices[i], indices[i+1]\n",
        "      hijo1, hijo2 = crossover(seleccionados[padre1].copy(), seleccionados[padre2].copy(), max_depth= profundidad_init\n",
        "                              + (gen_actual //  iter_por_fase))\n",
        "      hijos.append(hijo1)\n",
        "      hijos.append(hijo2)\n",
        "\n",
        "    for hijo in hijos:\n",
        "      mutate_tree(hijo, variables)\n",
        "\n",
        "    if elitismo:\n",
        "      hijos.pop()\n",
        "      hijos.append(poblacion[np.argmax(fitnessPob)])\n",
        "\n",
        "    poblacion = np.array(hijos)\n",
        "\n",
        "    if gen_actual % 5 == 0:\n",
        "      print(\"Generación {} Mejor fitness de la generación {}\".format(gen_actual, np.max(fitnessPob)))\n",
        "    gen_actual += 1\n",
        "  return goat "
      ]
    },
    {
      "cell_type": "code",
      "execution_count": 21,
      "metadata": {},
      "outputs": [
        {
          "name": "stdout",
          "output_type": "stream",
          "text": [
            "Generación 0 Mejor fitness de la generación 0.6299559471365639\n",
            "Generación 5 Mejor fitness de la generación 0.8370044052863436\n",
            "Generación 10 Mejor fitness de la generación 0.9074889867841409\n",
            "Generación 15 Mejor fitness de la generación 0.9911894273127754\n",
            "Generación 20 Mejor fitness de la generación 0.9911894273127754\n",
            "Generación 25 Mejor fitness de la generación 0.9911894273127754\n",
            "Generación 30 Mejor fitness de la generación 0.9911894273127754\n",
            "Generación 35 Mejor fitness de la generación 0.9911894273127754\n",
            "Generación 40 Mejor fitness de la generación 0.9911894273127754\n",
            "Generación 45 Mejor fitness de la generación 0.9911894273127754\n",
            "Generación 50 Mejor fitness de la generación 0.9911894273127754\n",
            "Generación 55 Mejor fitness de la generación 0.9911894273127754\n",
            "Generación 60 Mejor fitness de la generación 0.9911894273127754\n",
            "Generación 65 Mejor fitness de la generación 0.9911894273127754\n",
            "Generación 70 Mejor fitness de la generación 0.9911894273127754\n",
            "Generación 75 Mejor fitness de la generación 0.9911894273127754\n",
            "Generación 80 Mejor fitness de la generación 0.9911894273127754\n",
            "Generación 85 Mejor fitness de la generación 0.9911894273127754\n",
            "Generación 90 Mejor fitness de la generación 0.9911894273127754\n",
            "Generación 95 Mejor fitness de la generación 0.9911894273127754\n",
            "Generación 100 Mejor fitness de la generación 0.9911894273127754\n",
            "Generación 105 Mejor fitness de la generación 0.9911894273127754\n",
            "Generación 110 Mejor fitness de la generación 0.9911894273127754\n",
            "Generación 115 Mejor fitness de la generación 0.9911894273127754\n"
          ]
        }
      ],
      "source": [
        "if __name__ == \"__main__\":\n",
        "    goat = main()"
      ]
    },
    {
      "cell_type": "code",
      "execution_count": 22,
      "metadata": {},
      "outputs": [
        {
          "name": "stdout",
          "output_type": "stream",
          "text": [
            "Fitnes del mejor individuo: 0.9876543209876543\n",
            "Aptitud en el conjunto de prueba: 0.975609756097561\n"
          ]
        }
      ],
      "source": [
        "print('Fitnes del mejor individuo:', fitness(goat, metrica = 'f1'))\n",
        "print('Aptitud en el conjunto de prueba:', evaluate(goat, umbral = 0.5, metrica = 'f1'))"
      ]
    },
    {
      "cell_type": "code",
      "execution_count": 23,
      "metadata": {
        "colab": {
          "base_uri": "https://localhost:8080/"
        },
        "id": "DUMCJh758hqg",
        "outputId": "8e0c365f-4b49-4f66-d5fc-1525ce5adc06"
      },
      "outputs": [
        {
          "name": "stdout",
          "output_type": "stream",
          "text": [
            " AND\n",
            "├── OR\n",
            "    ├── OR\n",
            "        ├── x11\n",
            "        └── NOT\n",
            "            └── x11\n",
            "    └── AND\n",
            "        ├── x7\n",
            "        └── x14\n",
            "└── NOT\n",
            "    └── AND\n",
            "        ├── x18\n",
            "        └── x18\n",
            "(((x11 OR (NOT x11)) OR (x7 AND x14)) AND (NOT (x18 AND x18)))\n"
          ]
        }
      ],
      "source": [
        "goat.print_tree()\n",
        "print(goat)"
      ]
    }
  ],
  "metadata": {
    "colab": {
      "provenance": []
    },
    "kernelspec": {
      "display_name": "base",
      "language": "python",
      "name": "python3"
    },
    "language_info": {
      "codemirror_mode": {
        "name": "ipython",
        "version": 3
      },
      "file_extension": ".py",
      "mimetype": "text/x-python",
      "name": "python",
      "nbconvert_exporter": "python",
      "pygments_lexer": "ipython3",
      "version": "3.12.3"
    }
  },
  "nbformat": 4,
  "nbformat_minor": 0
}

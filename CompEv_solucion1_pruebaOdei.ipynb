{
  "nbformat": 4,
  "nbformat_minor": 0,
  "metadata": {
    "colab": {
      "provenance": []
    },
    "kernelspec": {
      "name": "python3",
      "display_name": "Python 3"
    },
    "language_info": {
      "name": "python"
    }
  },
  "cells": [
    {
      "cell_type": "code",
      "execution_count": 16,
      "metadata": {
        "id": "YlupeDM7zsGH",
        "colab": {
          "base_uri": "https://localhost:8080/"
        },
        "outputId": "b12059d7-c787-4c42-baa8-d94fb65f729c"
      },
      "outputs": [
        {
          "output_type": "stream",
          "name": "stdout",
          "text": [
            "Requirement already satisfied: pygad in /usr/local/lib/python3.10/dist-packages (3.3.1)\n",
            "Requirement already satisfied: cloudpickle in /usr/local/lib/python3.10/dist-packages (from pygad) (2.2.1)\n",
            "Requirement already satisfied: matplotlib in /usr/local/lib/python3.10/dist-packages (from pygad) (3.7.1)\n",
            "Requirement already satisfied: numpy in /usr/local/lib/python3.10/dist-packages (from pygad) (1.26.4)\n",
            "Requirement already satisfied: contourpy>=1.0.1 in /usr/local/lib/python3.10/dist-packages (from matplotlib->pygad) (1.3.0)\n",
            "Requirement already satisfied: cycler>=0.10 in /usr/local/lib/python3.10/dist-packages (from matplotlib->pygad) (0.12.1)\n",
            "Requirement already satisfied: fonttools>=4.22.0 in /usr/local/lib/python3.10/dist-packages (from matplotlib->pygad) (4.53.1)\n",
            "Requirement already satisfied: kiwisolver>=1.0.1 in /usr/local/lib/python3.10/dist-packages (from matplotlib->pygad) (1.4.7)\n",
            "Requirement already satisfied: packaging>=20.0 in /usr/local/lib/python3.10/dist-packages (from matplotlib->pygad) (24.1)\n",
            "Requirement already satisfied: pillow>=6.2.0 in /usr/local/lib/python3.10/dist-packages (from matplotlib->pygad) (10.4.0)\n",
            "Requirement already satisfied: pyparsing>=2.3.1 in /usr/local/lib/python3.10/dist-packages (from matplotlib->pygad) (3.1.4)\n",
            "Requirement already satisfied: python-dateutil>=2.7 in /usr/local/lib/python3.10/dist-packages (from matplotlib->pygad) (2.8.2)\n",
            "Requirement already satisfied: six>=1.5 in /usr/local/lib/python3.10/dist-packages (from python-dateutil>=2.7->matplotlib->pygad) (1.16.0)\n"
          ]
        }
      ],
      "source": [
        "import pandas as pd\n",
        "import numpy as np\n",
        "# pygad es una librería de algoritmos genéticos (https://pygad.readthedocs.io/en/latest/pygad.html)\n",
        "!pip install pygad\n",
        "import pygad"
      ]
    },
    {
      "cell_type": "code",
      "source": [
        "# carga de datos YA BINARIOS.\n",
        "# Requiere fichero lungcancer_binario.csv en GitHub\n",
        "\n",
        "df = pd.read_csv('/content/mushroom_cleaned.csv')\n",
        "\n",
        "df"
      ],
      "metadata": {
        "colab": {
          "base_uri": "https://localhost:8080/",
          "height": 423
        },
        "id": "fi4a-juMzz36",
        "outputId": "0fe5f562-a32a-4dea-810f-ab38f28a79bf"
      },
      "execution_count": 17,
      "outputs": [
        {
          "output_type": "execute_result",
          "data": {
            "text/plain": [
              "       cap-diameter  cap-shape  gill-attachment  gill-color  stem-height  \\\n",
              "0              1372          2                2          10     3.807467   \n",
              "1              1461          2                2          10     3.807467   \n",
              "2              1371          2                2          10     3.612496   \n",
              "3              1261          6                2          10     3.787572   \n",
              "4              1305          6                2          10     3.711971   \n",
              "...             ...        ...              ...         ...          ...   \n",
              "54030            73          5                3           2     0.887740   \n",
              "54031            82          2                3           2     1.186164   \n",
              "54032            82          5                3           2     0.915593   \n",
              "54033            79          2                3           2     1.034963   \n",
              "54034            72          5                3           2     1.158311   \n",
              "\n",
              "       stem-width  stem-color    season  class  \n",
              "0            1545          11  1.804273      1  \n",
              "1            1557          11  1.804273      1  \n",
              "2            1566          11  1.804273      1  \n",
              "3            1566          11  1.804273      1  \n",
              "4            1464          11  0.943195      1  \n",
              "...           ...         ...       ...    ...  \n",
              "54030         569          12  0.943195      1  \n",
              "54031         490          12  0.943195      1  \n",
              "54032         584          12  0.888450      1  \n",
              "54033         491          12  0.888450      1  \n",
              "54034         492          12  0.888450      1  \n",
              "\n",
              "[54035 rows x 9 columns]"
            ],
            "text/html": [
              "\n",
              "  <div id=\"df-5e10227d-8804-4219-8deb-ec43fdcedf7e\" class=\"colab-df-container\">\n",
              "    <div>\n",
              "<style scoped>\n",
              "    .dataframe tbody tr th:only-of-type {\n",
              "        vertical-align: middle;\n",
              "    }\n",
              "\n",
              "    .dataframe tbody tr th {\n",
              "        vertical-align: top;\n",
              "    }\n",
              "\n",
              "    .dataframe thead th {\n",
              "        text-align: right;\n",
              "    }\n",
              "</style>\n",
              "<table border=\"1\" class=\"dataframe\">\n",
              "  <thead>\n",
              "    <tr style=\"text-align: right;\">\n",
              "      <th></th>\n",
              "      <th>cap-diameter</th>\n",
              "      <th>cap-shape</th>\n",
              "      <th>gill-attachment</th>\n",
              "      <th>gill-color</th>\n",
              "      <th>stem-height</th>\n",
              "      <th>stem-width</th>\n",
              "      <th>stem-color</th>\n",
              "      <th>season</th>\n",
              "      <th>class</th>\n",
              "    </tr>\n",
              "  </thead>\n",
              "  <tbody>\n",
              "    <tr>\n",
              "      <th>0</th>\n",
              "      <td>1372</td>\n",
              "      <td>2</td>\n",
              "      <td>2</td>\n",
              "      <td>10</td>\n",
              "      <td>3.807467</td>\n",
              "      <td>1545</td>\n",
              "      <td>11</td>\n",
              "      <td>1.804273</td>\n",
              "      <td>1</td>\n",
              "    </tr>\n",
              "    <tr>\n",
              "      <th>1</th>\n",
              "      <td>1461</td>\n",
              "      <td>2</td>\n",
              "      <td>2</td>\n",
              "      <td>10</td>\n",
              "      <td>3.807467</td>\n",
              "      <td>1557</td>\n",
              "      <td>11</td>\n",
              "      <td>1.804273</td>\n",
              "      <td>1</td>\n",
              "    </tr>\n",
              "    <tr>\n",
              "      <th>2</th>\n",
              "      <td>1371</td>\n",
              "      <td>2</td>\n",
              "      <td>2</td>\n",
              "      <td>10</td>\n",
              "      <td>3.612496</td>\n",
              "      <td>1566</td>\n",
              "      <td>11</td>\n",
              "      <td>1.804273</td>\n",
              "      <td>1</td>\n",
              "    </tr>\n",
              "    <tr>\n",
              "      <th>3</th>\n",
              "      <td>1261</td>\n",
              "      <td>6</td>\n",
              "      <td>2</td>\n",
              "      <td>10</td>\n",
              "      <td>3.787572</td>\n",
              "      <td>1566</td>\n",
              "      <td>11</td>\n",
              "      <td>1.804273</td>\n",
              "      <td>1</td>\n",
              "    </tr>\n",
              "    <tr>\n",
              "      <th>4</th>\n",
              "      <td>1305</td>\n",
              "      <td>6</td>\n",
              "      <td>2</td>\n",
              "      <td>10</td>\n",
              "      <td>3.711971</td>\n",
              "      <td>1464</td>\n",
              "      <td>11</td>\n",
              "      <td>0.943195</td>\n",
              "      <td>1</td>\n",
              "    </tr>\n",
              "    <tr>\n",
              "      <th>...</th>\n",
              "      <td>...</td>\n",
              "      <td>...</td>\n",
              "      <td>...</td>\n",
              "      <td>...</td>\n",
              "      <td>...</td>\n",
              "      <td>...</td>\n",
              "      <td>...</td>\n",
              "      <td>...</td>\n",
              "      <td>...</td>\n",
              "    </tr>\n",
              "    <tr>\n",
              "      <th>54030</th>\n",
              "      <td>73</td>\n",
              "      <td>5</td>\n",
              "      <td>3</td>\n",
              "      <td>2</td>\n",
              "      <td>0.887740</td>\n",
              "      <td>569</td>\n",
              "      <td>12</td>\n",
              "      <td>0.943195</td>\n",
              "      <td>1</td>\n",
              "    </tr>\n",
              "    <tr>\n",
              "      <th>54031</th>\n",
              "      <td>82</td>\n",
              "      <td>2</td>\n",
              "      <td>3</td>\n",
              "      <td>2</td>\n",
              "      <td>1.186164</td>\n",
              "      <td>490</td>\n",
              "      <td>12</td>\n",
              "      <td>0.943195</td>\n",
              "      <td>1</td>\n",
              "    </tr>\n",
              "    <tr>\n",
              "      <th>54032</th>\n",
              "      <td>82</td>\n",
              "      <td>5</td>\n",
              "      <td>3</td>\n",
              "      <td>2</td>\n",
              "      <td>0.915593</td>\n",
              "      <td>584</td>\n",
              "      <td>12</td>\n",
              "      <td>0.888450</td>\n",
              "      <td>1</td>\n",
              "    </tr>\n",
              "    <tr>\n",
              "      <th>54033</th>\n",
              "      <td>79</td>\n",
              "      <td>2</td>\n",
              "      <td>3</td>\n",
              "      <td>2</td>\n",
              "      <td>1.034963</td>\n",
              "      <td>491</td>\n",
              "      <td>12</td>\n",
              "      <td>0.888450</td>\n",
              "      <td>1</td>\n",
              "    </tr>\n",
              "    <tr>\n",
              "      <th>54034</th>\n",
              "      <td>72</td>\n",
              "      <td>5</td>\n",
              "      <td>3</td>\n",
              "      <td>2</td>\n",
              "      <td>1.158311</td>\n",
              "      <td>492</td>\n",
              "      <td>12</td>\n",
              "      <td>0.888450</td>\n",
              "      <td>1</td>\n",
              "    </tr>\n",
              "  </tbody>\n",
              "</table>\n",
              "<p>54035 rows × 9 columns</p>\n",
              "</div>\n",
              "    <div class=\"colab-df-buttons\">\n",
              "\n",
              "  <div class=\"colab-df-container\">\n",
              "    <button class=\"colab-df-convert\" onclick=\"convertToInteractive('df-5e10227d-8804-4219-8deb-ec43fdcedf7e')\"\n",
              "            title=\"Convert this dataframe to an interactive table.\"\n",
              "            style=\"display:none;\">\n",
              "\n",
              "  <svg xmlns=\"http://www.w3.org/2000/svg\" height=\"24px\" viewBox=\"0 -960 960 960\">\n",
              "    <path d=\"M120-120v-720h720v720H120Zm60-500h600v-160H180v160Zm220 220h160v-160H400v160Zm0 220h160v-160H400v160ZM180-400h160v-160H180v160Zm440 0h160v-160H620v160ZM180-180h160v-160H180v160Zm440 0h160v-160H620v160Z\"/>\n",
              "  </svg>\n",
              "    </button>\n",
              "\n",
              "  <style>\n",
              "    .colab-df-container {\n",
              "      display:flex;\n",
              "      gap: 12px;\n",
              "    }\n",
              "\n",
              "    .colab-df-convert {\n",
              "      background-color: #E8F0FE;\n",
              "      border: none;\n",
              "      border-radius: 50%;\n",
              "      cursor: pointer;\n",
              "      display: none;\n",
              "      fill: #1967D2;\n",
              "      height: 32px;\n",
              "      padding: 0 0 0 0;\n",
              "      width: 32px;\n",
              "    }\n",
              "\n",
              "    .colab-df-convert:hover {\n",
              "      background-color: #E2EBFA;\n",
              "      box-shadow: 0px 1px 2px rgba(60, 64, 67, 0.3), 0px 1px 3px 1px rgba(60, 64, 67, 0.15);\n",
              "      fill: #174EA6;\n",
              "    }\n",
              "\n",
              "    .colab-df-buttons div {\n",
              "      margin-bottom: 4px;\n",
              "    }\n",
              "\n",
              "    [theme=dark] .colab-df-convert {\n",
              "      background-color: #3B4455;\n",
              "      fill: #D2E3FC;\n",
              "    }\n",
              "\n",
              "    [theme=dark] .colab-df-convert:hover {\n",
              "      background-color: #434B5C;\n",
              "      box-shadow: 0px 1px 3px 1px rgba(0, 0, 0, 0.15);\n",
              "      filter: drop-shadow(0px 1px 2px rgba(0, 0, 0, 0.3));\n",
              "      fill: #FFFFFF;\n",
              "    }\n",
              "  </style>\n",
              "\n",
              "    <script>\n",
              "      const buttonEl =\n",
              "        document.querySelector('#df-5e10227d-8804-4219-8deb-ec43fdcedf7e button.colab-df-convert');\n",
              "      buttonEl.style.display =\n",
              "        google.colab.kernel.accessAllowed ? 'block' : 'none';\n",
              "\n",
              "      async function convertToInteractive(key) {\n",
              "        const element = document.querySelector('#df-5e10227d-8804-4219-8deb-ec43fdcedf7e');\n",
              "        const dataTable =\n",
              "          await google.colab.kernel.invokeFunction('convertToInteractive',\n",
              "                                                    [key], {});\n",
              "        if (!dataTable) return;\n",
              "\n",
              "        const docLinkHtml = 'Like what you see? Visit the ' +\n",
              "          '<a target=\"_blank\" href=https://colab.research.google.com/notebooks/data_table.ipynb>data table notebook</a>'\n",
              "          + ' to learn more about interactive tables.';\n",
              "        element.innerHTML = '';\n",
              "        dataTable['output_type'] = 'display_data';\n",
              "        await google.colab.output.renderOutput(dataTable, element);\n",
              "        const docLink = document.createElement('div');\n",
              "        docLink.innerHTML = docLinkHtml;\n",
              "        element.appendChild(docLink);\n",
              "      }\n",
              "    </script>\n",
              "  </div>\n",
              "\n",
              "\n",
              "<div id=\"df-071f7c3f-00c8-4934-b99d-527ca9a2e062\">\n",
              "  <button class=\"colab-df-quickchart\" onclick=\"quickchart('df-071f7c3f-00c8-4934-b99d-527ca9a2e062')\"\n",
              "            title=\"Suggest charts\"\n",
              "            style=\"display:none;\">\n",
              "\n",
              "<svg xmlns=\"http://www.w3.org/2000/svg\" height=\"24px\"viewBox=\"0 0 24 24\"\n",
              "     width=\"24px\">\n",
              "    <g>\n",
              "        <path d=\"M19 3H5c-1.1 0-2 .9-2 2v14c0 1.1.9 2 2 2h14c1.1 0 2-.9 2-2V5c0-1.1-.9-2-2-2zM9 17H7v-7h2v7zm4 0h-2V7h2v10zm4 0h-2v-4h2v4z\"/>\n",
              "    </g>\n",
              "</svg>\n",
              "  </button>\n",
              "\n",
              "<style>\n",
              "  .colab-df-quickchart {\n",
              "      --bg-color: #E8F0FE;\n",
              "      --fill-color: #1967D2;\n",
              "      --hover-bg-color: #E2EBFA;\n",
              "      --hover-fill-color: #174EA6;\n",
              "      --disabled-fill-color: #AAA;\n",
              "      --disabled-bg-color: #DDD;\n",
              "  }\n",
              "\n",
              "  [theme=dark] .colab-df-quickchart {\n",
              "      --bg-color: #3B4455;\n",
              "      --fill-color: #D2E3FC;\n",
              "      --hover-bg-color: #434B5C;\n",
              "      --hover-fill-color: #FFFFFF;\n",
              "      --disabled-bg-color: #3B4455;\n",
              "      --disabled-fill-color: #666;\n",
              "  }\n",
              "\n",
              "  .colab-df-quickchart {\n",
              "    background-color: var(--bg-color);\n",
              "    border: none;\n",
              "    border-radius: 50%;\n",
              "    cursor: pointer;\n",
              "    display: none;\n",
              "    fill: var(--fill-color);\n",
              "    height: 32px;\n",
              "    padding: 0;\n",
              "    width: 32px;\n",
              "  }\n",
              "\n",
              "  .colab-df-quickchart:hover {\n",
              "    background-color: var(--hover-bg-color);\n",
              "    box-shadow: 0 1px 2px rgba(60, 64, 67, 0.3), 0 1px 3px 1px rgba(60, 64, 67, 0.15);\n",
              "    fill: var(--button-hover-fill-color);\n",
              "  }\n",
              "\n",
              "  .colab-df-quickchart-complete:disabled,\n",
              "  .colab-df-quickchart-complete:disabled:hover {\n",
              "    background-color: var(--disabled-bg-color);\n",
              "    fill: var(--disabled-fill-color);\n",
              "    box-shadow: none;\n",
              "  }\n",
              "\n",
              "  .colab-df-spinner {\n",
              "    border: 2px solid var(--fill-color);\n",
              "    border-color: transparent;\n",
              "    border-bottom-color: var(--fill-color);\n",
              "    animation:\n",
              "      spin 1s steps(1) infinite;\n",
              "  }\n",
              "\n",
              "  @keyframes spin {\n",
              "    0% {\n",
              "      border-color: transparent;\n",
              "      border-bottom-color: var(--fill-color);\n",
              "      border-left-color: var(--fill-color);\n",
              "    }\n",
              "    20% {\n",
              "      border-color: transparent;\n",
              "      border-left-color: var(--fill-color);\n",
              "      border-top-color: var(--fill-color);\n",
              "    }\n",
              "    30% {\n",
              "      border-color: transparent;\n",
              "      border-left-color: var(--fill-color);\n",
              "      border-top-color: var(--fill-color);\n",
              "      border-right-color: var(--fill-color);\n",
              "    }\n",
              "    40% {\n",
              "      border-color: transparent;\n",
              "      border-right-color: var(--fill-color);\n",
              "      border-top-color: var(--fill-color);\n",
              "    }\n",
              "    60% {\n",
              "      border-color: transparent;\n",
              "      border-right-color: var(--fill-color);\n",
              "    }\n",
              "    80% {\n",
              "      border-color: transparent;\n",
              "      border-right-color: var(--fill-color);\n",
              "      border-bottom-color: var(--fill-color);\n",
              "    }\n",
              "    90% {\n",
              "      border-color: transparent;\n",
              "      border-bottom-color: var(--fill-color);\n",
              "    }\n",
              "  }\n",
              "</style>\n",
              "\n",
              "  <script>\n",
              "    async function quickchart(key) {\n",
              "      const quickchartButtonEl =\n",
              "        document.querySelector('#' + key + ' button');\n",
              "      quickchartButtonEl.disabled = true;  // To prevent multiple clicks.\n",
              "      quickchartButtonEl.classList.add('colab-df-spinner');\n",
              "      try {\n",
              "        const charts = await google.colab.kernel.invokeFunction(\n",
              "            'suggestCharts', [key], {});\n",
              "      } catch (error) {\n",
              "        console.error('Error during call to suggestCharts:', error);\n",
              "      }\n",
              "      quickchartButtonEl.classList.remove('colab-df-spinner');\n",
              "      quickchartButtonEl.classList.add('colab-df-quickchart-complete');\n",
              "    }\n",
              "    (() => {\n",
              "      let quickchartButtonEl =\n",
              "        document.querySelector('#df-071f7c3f-00c8-4934-b99d-527ca9a2e062 button');\n",
              "      quickchartButtonEl.style.display =\n",
              "        google.colab.kernel.accessAllowed ? 'block' : 'none';\n",
              "    })();\n",
              "  </script>\n",
              "</div>\n",
              "\n",
              "  <div id=\"id_ad342695-6622-429c-b6d7-83a997e19fb3\">\n",
              "    <style>\n",
              "      .colab-df-generate {\n",
              "        background-color: #E8F0FE;\n",
              "        border: none;\n",
              "        border-radius: 50%;\n",
              "        cursor: pointer;\n",
              "        display: none;\n",
              "        fill: #1967D2;\n",
              "        height: 32px;\n",
              "        padding: 0 0 0 0;\n",
              "        width: 32px;\n",
              "      }\n",
              "\n",
              "      .colab-df-generate:hover {\n",
              "        background-color: #E2EBFA;\n",
              "        box-shadow: 0px 1px 2px rgba(60, 64, 67, 0.3), 0px 1px 3px 1px rgba(60, 64, 67, 0.15);\n",
              "        fill: #174EA6;\n",
              "      }\n",
              "\n",
              "      [theme=dark] .colab-df-generate {\n",
              "        background-color: #3B4455;\n",
              "        fill: #D2E3FC;\n",
              "      }\n",
              "\n",
              "      [theme=dark] .colab-df-generate:hover {\n",
              "        background-color: #434B5C;\n",
              "        box-shadow: 0px 1px 3px 1px rgba(0, 0, 0, 0.15);\n",
              "        filter: drop-shadow(0px 1px 2px rgba(0, 0, 0, 0.3));\n",
              "        fill: #FFFFFF;\n",
              "      }\n",
              "    </style>\n",
              "    <button class=\"colab-df-generate\" onclick=\"generateWithVariable('df')\"\n",
              "            title=\"Generate code using this dataframe.\"\n",
              "            style=\"display:none;\">\n",
              "\n",
              "  <svg xmlns=\"http://www.w3.org/2000/svg\" height=\"24px\"viewBox=\"0 0 24 24\"\n",
              "       width=\"24px\">\n",
              "    <path d=\"M7,19H8.4L18.45,9,17,7.55,7,17.6ZM5,21V16.75L18.45,3.32a2,2,0,0,1,2.83,0l1.4,1.43a1.91,1.91,0,0,1,.58,1.4,1.91,1.91,0,0,1-.58,1.4L9.25,21ZM18.45,9,17,7.55Zm-12,3A5.31,5.31,0,0,0,4.9,8.1,5.31,5.31,0,0,0,1,6.5,5.31,5.31,0,0,0,4.9,4.9,5.31,5.31,0,0,0,6.5,1,5.31,5.31,0,0,0,8.1,4.9,5.31,5.31,0,0,0,12,6.5,5.46,5.46,0,0,0,6.5,12Z\"/>\n",
              "  </svg>\n",
              "    </button>\n",
              "    <script>\n",
              "      (() => {\n",
              "      const buttonEl =\n",
              "        document.querySelector('#id_ad342695-6622-429c-b6d7-83a997e19fb3 button.colab-df-generate');\n",
              "      buttonEl.style.display =\n",
              "        google.colab.kernel.accessAllowed ? 'block' : 'none';\n",
              "\n",
              "      buttonEl.onclick = () => {\n",
              "        google.colab.notebook.generateWithVariable('df');\n",
              "      }\n",
              "      })();\n",
              "    </script>\n",
              "  </div>\n",
              "\n",
              "    </div>\n",
              "  </div>\n"
            ],
            "application/vnd.google.colaboratory.intrinsic+json": {
              "type": "dataframe",
              "variable_name": "df",
              "summary": "{\n  \"name\": \"df\",\n  \"rows\": 54035,\n  \"fields\": [\n    {\n      \"column\": \"cap-diameter\",\n      \"properties\": {\n        \"dtype\": \"number\",\n        \"std\": 359,\n        \"min\": 0,\n        \"max\": 1891,\n        \"num_unique_values\": 1847,\n        \"samples\": [\n          11,\n          1677,\n          44\n        ],\n        \"semantic_type\": \"\",\n        \"description\": \"\"\n      }\n    },\n    {\n      \"column\": \"cap-shape\",\n      \"properties\": {\n        \"dtype\": \"number\",\n        \"std\": 2,\n        \"min\": 0,\n        \"max\": 6,\n        \"num_unique_values\": 7,\n        \"samples\": [\n          2,\n          6,\n          5\n        ],\n        \"semantic_type\": \"\",\n        \"description\": \"\"\n      }\n    },\n    {\n      \"column\": \"gill-attachment\",\n      \"properties\": {\n        \"dtype\": \"number\",\n        \"std\": 2,\n        \"min\": 0,\n        \"max\": 6,\n        \"num_unique_values\": 7,\n        \"samples\": [\n          2,\n          0,\n          4\n        ],\n        \"semantic_type\": \"\",\n        \"description\": \"\"\n      }\n    },\n    {\n      \"column\": \"gill-color\",\n      \"properties\": {\n        \"dtype\": \"number\",\n        \"std\": 3,\n        \"min\": 0,\n        \"max\": 11,\n        \"num_unique_values\": 12,\n        \"samples\": [\n          4,\n          6,\n          10\n        ],\n        \"semantic_type\": \"\",\n        \"description\": \"\"\n      }\n    },\n    {\n      \"column\": \"stem-height\",\n      \"properties\": {\n        \"dtype\": \"number\",\n        \"std\": 0.6509686159221912,\n        \"min\": 0.0004256969608359,\n        \"max\": 3.8353196773222433,\n        \"num_unique_values\": 1455,\n        \"samples\": [\n          0.004404685938308,\n          1.826781637620518,\n          1.396199434131862\n        ],\n        \"semantic_type\": \"\",\n        \"description\": \"\"\n      }\n    },\n    {\n      \"column\": \"stem-width\",\n      \"properties\": {\n        \"dtype\": \"number\",\n        \"std\": 782,\n        \"min\": 0,\n        \"max\": 3569,\n        \"num_unique_values\": 3510,\n        \"samples\": [\n          3028,\n          1505,\n          3516\n        ],\n        \"semantic_type\": \"\",\n        \"description\": \"\"\n      }\n    },\n    {\n      \"column\": \"stem-color\",\n      \"properties\": {\n        \"dtype\": \"number\",\n        \"std\": 3,\n        \"min\": 0,\n        \"max\": 12,\n        \"num_unique_values\": 13,\n        \"samples\": [\n          7,\n          4,\n          11\n        ],\n        \"semantic_type\": \"\",\n        \"description\": \"\"\n      }\n    },\n    {\n      \"column\": \"season\",\n      \"properties\": {\n        \"dtype\": \"number\",\n        \"std\": 0.3055935859378124,\n        \"min\": 0.0273721330556057,\n        \"max\": 1.804272708628173,\n        \"num_unique_values\": 4,\n        \"samples\": [\n          0.9431945538974952,\n          0.0273721330556057,\n          1.804272708628173\n        ],\n        \"semantic_type\": \"\",\n        \"description\": \"\"\n      }\n    },\n    {\n      \"column\": \"class\",\n      \"properties\": {\n        \"dtype\": \"number\",\n        \"std\": 0,\n        \"min\": 0,\n        \"max\": 1,\n        \"num_unique_values\": 2,\n        \"samples\": [\n          0,\n          1\n        ],\n        \"semantic_type\": \"\",\n        \"description\": \"\"\n      }\n    }\n  ]\n}"
            }
          },
          "metadata": {},
          "execution_count": 17
        }
      ]
    },
    {
      "cell_type": "code",
      "source": [
        "def convert_to_binary(df):\n",
        "    \"\"\"\n",
        "    Convierte los atributos de un DataFrame a binarios o one-hot,\n",
        "    sin modificar los atributos que ya son binarios.\n",
        "\n",
        "    Parámetros:\n",
        "    df : pd.DataFrame\n",
        "        El DataFrame a convertir.\n",
        "\n",
        "    Retorna:\n",
        "    pd.DataFrame\n",
        "        Un nuevo DataFrame con las columnas convertidas a formato binario o one-hot.\n",
        "    \"\"\"\n",
        "    df_binary = df.copy()\n",
        "\n",
        "    for column in df_binary.columns:\n",
        "        # Verifica si la columna es binaria (0/1)\n",
        "        if df_binary[column].dtype in ['int64', 'float64']:\n",
        "            if df_binary[column].nunique() == 2:\n",
        "                df_binary[column].astype(int)  # No modificar columnas binarias\n",
        "            elif df_binary[column].nunique() > 3:\n",
        "                # Aplica binning y luego one-hot\n",
        "                df_binned = pd.cut(df_binary[column], bins=4, labels=False)\n",
        "                df_one_hot = pd.get_dummies(df_binned, prefix=column)\n",
        "                df_binary = pd.concat([df_binary, df_one_hot], axis=1).astype(int)\n",
        "                df_binary.drop(column, axis=1, inplace=True)\n",
        "            else:\n",
        "                # Aplica one-hot directamente\n",
        "                df_one_hot = pd.get_dummies(df_binary[column], prefix=column)\n",
        "                df_binary = pd.concat([df_binary, df_one_hot], axis=1).astype(int)\n",
        "                df_binary.drop(column, axis=1, inplace=True)\n",
        "        elif df_binary[column].dtype == 'object':\n",
        "            # Si la columna es categórica, aplica one-hot\n",
        "            df_one_hot = pd.get_dummies(df_binary[column], prefix=column)\n",
        "            df_binary = pd.concat([df_binary, df_one_hot], axis=1).astype(int)\n",
        "            df_binary.drop(column, axis=1, inplace=True)\n",
        "\n",
        "    return df_binary"
      ],
      "metadata": {
        "id": "FAzNVc0pkUQp"
      },
      "execution_count": 18,
      "outputs": []
    },
    {
      "cell_type": "code",
      "source": [
        "df = convert_to_binary(df)\n",
        "print(df.shape)"
      ],
      "metadata": {
        "colab": {
          "base_uri": "https://localhost:8080/"
        },
        "id": "J0ARm-u7kZXF",
        "outputId": "0226a688-1c1a-448a-ef4b-db90d0d84bd6"
      },
      "execution_count": 19,
      "outputs": [
        {
          "output_type": "stream",
          "name": "stdout",
          "text": [
            "(54035, 30)\n"
          ]
        }
      ]
    },
    {
      "cell_type": "markdown",
      "source": [
        "#Train test split"
      ],
      "metadata": {
        "id": "XIfa63M1LQhF"
      }
    },
    {
      "cell_type": "code",
      "source": [
        "datos = df.to_numpy()\n",
        "X = datos[:,:-1]\n",
        "Y = datos[:,-1]"
      ],
      "metadata": {
        "id": "hIK53iz-z-Se"
      },
      "execution_count": 20,
      "outputs": []
    },
    {
      "cell_type": "code",
      "source": [
        "print(np.unique(Y))"
      ],
      "metadata": {
        "colab": {
          "base_uri": "https://localhost:8080/"
        },
        "id": "u5geGrcjulLx",
        "outputId": "fa8125b8-ad28-4152-e2b1-83a4d0c47c54"
      },
      "execution_count": 21,
      "outputs": [
        {
          "output_type": "stream",
          "name": "stdout",
          "text": [
            "[0 1]\n"
          ]
        }
      ]
    },
    {
      "cell_type": "code",
      "source": [
        "# separar en train y test (80%/20%)\n",
        "from sklearn.model_selection import train_test_split\n",
        "\n",
        "# Separa en train y test (80% train, 20% test)\n",
        "Xtrain, Xtest, Ytrain, Ytest = train_test_split(X, Y, test_size=0.2, random_state=42)\n",
        "\n",
        "print(len(Xtrain), len(Xtest))"
      ],
      "metadata": {
        "colab": {
          "base_uri": "https://localhost:8080/"
        },
        "id": "vR5iPA5yjKzf",
        "outputId": "20265fe6-bb7b-4461-a684-014dda99a56a"
      },
      "execution_count": 22,
      "outputs": [
        {
          "output_type": "stream",
          "name": "stdout",
          "text": [
            "43228 10807\n"
          ]
        }
      ]
    },
    {
      "cell_type": "markdown",
      "source": [
        "# Inicializar poblacion"
      ],
      "metadata": {
        "id": "af1nnSPULYui"
      }
    },
    {
      "cell_type": "code",
      "source": [
        "def generate_population(population_size, individuo_size):\n",
        "    population = np.empty((population_size, individuo_size))\n",
        "    for i in range(individuo_size):\n",
        "        population[:, i] = np.random.uniform(low = 0, high = 1, size = population_size)\n",
        "    population /= population.sum(axis=1, keepdims=True)\n",
        "    return population.astype(np.float64)"
      ],
      "metadata": {
        "id": "gacQsedDHgbu"
      },
      "execution_count": 41,
      "outputs": []
    },
    {
      "cell_type": "code",
      "source": [
        "import matplotlib.pyplot as plt\n",
        "\n",
        "population = generate_population(5000, X.shape[1])\n",
        "columna = population[:,0]\n",
        "print(population[:,0])\n",
        "plt.figure(figsize=(10, 6))\n",
        "plt.hist(columna, label='Columna 1', color='blue')\n",
        "\n",
        "# Añadir etiquetas y título\n",
        "plt.title('Line Plot de la Columna 1 de la Matriz')\n",
        "plt.xlabel('Índice')\n",
        "plt.ylabel('Valor')\n",
        "plt.grid(True)\n",
        "plt.legend()\n",
        "plt.show()"
      ],
      "metadata": {
        "colab": {
          "base_uri": "https://localhost:8080/",
          "height": 581
        },
        "id": "zLCL3XX0I_2B",
        "outputId": "66d75bb0-4c80-4059-d2bc-057635fc67bb"
      },
      "execution_count": 24,
      "outputs": [
        {
          "output_type": "stream",
          "name": "stdout",
          "text": [
            "[0.03698516 0.02593438 0.07567793 ... 0.06401203 0.05680287 0.05509207]\n"
          ]
        },
        {
          "output_type": "display_data",
          "data": {
            "text/plain": [
              "<Figure size 1000x600 with 1 Axes>"
            ],
            "image/png": "[encoded data removed]"
          },
          "metadata": {}
        }
      ]
    },
    {
      "cell_type": "markdown",
      "source": [
        "# Función Fitness"
      ],
      "metadata": {
        "id": "zjxbifUaLmYF"
      }
    },
    {
      "cell_type": "code",
      "source": [
        "import numpy as np\n",
        "from sklearn.metrics import accuracy_score, f1_score\n",
        "\n",
        "# función auxiliar para calcular el fitness de una población\n",
        "def fitness_poblacion(poblacion, umbral = 0.5, metrica = 'f1'):\n",
        "\n",
        "  poblacion = np.asarray(poblacion)\n",
        "  probs = np.dot(Xtrain, poblacion.T)\n",
        "  y_pred = (probs >= umbral).astype(int)\n",
        "  y_true = Ytrain\n",
        "  scores = np.empty(y_pred.shape[1])\n",
        "  if metrica == 'f1':\n",
        "    for i in range(y_pred.shape[1]):\n",
        "      tp = np.sum((y_true == 1) & (y_pred[:,i] == 1))\n",
        "\n",
        "      # False Positives (FP): y_true == 0 y y_pred == 1\n",
        "      fp = np.sum((y_true == 0) & (y_pred[:,i] == 1))\n",
        "\n",
        "      # False Negatives (FN): y_true == 1 y y_pred == 0\n",
        "      fn = np.sum((y_true == 1) & (y_pred[:,i] == 0))\n",
        "\n",
        "      # Calcular Precision y Recall\n",
        "      precision = tp / (tp + fp) if (tp + fp) > 0 else 0\n",
        "      recall = tp / (tp + fn) if (tp + fn) > 0 else 0\n",
        "\n",
        "      # Calcular F1-score\n",
        "      if precision + recall == 0:\n",
        "          scores[i] = 2 * (precision * recall) / (1e-3)\n",
        "      scores[i] = 2 * (precision * recall) / (precision + recall)\n",
        "\n",
        "  elif metrica == 'acc':\n",
        "    for i in range(y_pred.shape[1]):\n",
        "      correct_predictions = np.sum(y_true == y_pred[:,i])\n",
        "\n",
        "      # Calcular el accuracy\n",
        "      scores[i] = correct_predictions / len(y_true)\n",
        "\n",
        "  return scores\n",
        "\n",
        "def fitness(individuo, umbral = 0.5, metrica = 'f1'):\n",
        "\n",
        "  individuo = np.asarray(individuo)\n",
        "  y_true = Ytrain\n",
        "  probs = np.dot(Xtrain.astype(np.float64), individuo.T.astype(np.float64))\n",
        "  y_pred = (probs >= umbral).astype(int)\n",
        "\n",
        "  if metrica == 'f1':\n",
        "    tp = np.sum((y_true == 1) & (y_pred == 1))\n",
        "\n",
        "    # False Positives (FP): y_true == 0 y y_pred == 1\n",
        "    fp = np.sum((y_true == 0) & (y_pred == 1))\n",
        "\n",
        "    # False Negatives (FN): y_true == 1 y y_pred == 0\n",
        "    fn = np.sum((y_true == 1) & (y_pred == 0))\n",
        "\n",
        "    # Calcular Precision y Recall\n",
        "    precision = tp / (tp + fp) if (tp + fp) > 0 else 0\n",
        "    recall = tp / (tp + fn) if (tp + fn) > 0 else 0\n",
        "\n",
        "    # Calcular F1-score\n",
        "    if precision + recall == 0:\n",
        "        return 0.0\n",
        "    return 2 * (precision * recall) / (precision + recall)\n",
        "\n",
        "  elif metrica == 'acc':\n",
        "    return np.sum(y_true == y_pred) / len(y_true)\n"
      ],
      "metadata": {
        "id": "EghiPSbvLJS2"
      },
      "execution_count": 67,
      "outputs": []
    },
    {
      "cell_type": "code",
      "source": [
        "# poblacion = generate_population(5000, X.shape[1])\n",
        "\n",
        "# fitnessPob =  fitness_poblacion(poblacion, umbral = 0.5, metrica = 'f1')\n",
        "# print(fitnessPob.shape)\n",
        "# print(fitnessPob)"
      ],
      "metadata": {
        "id": "GJP1LAdbLqZC"
      },
      "execution_count": 26,
      "outputs": []
    },
    {
      "cell_type": "markdown",
      "source": [
        "# Selección por torneos\n"
      ],
      "metadata": {
        "id": "bKCs7n4YRCgM"
      }
    },
    {
      "cell_type": "code",
      "source": [
        "def seleccion_torneo(fitnessPoblacion, poblacion, k):\n",
        "    \"\"\"\n",
        "    Selección por torneo para algoritmos genéticos.\n",
        "\n",
        "    :param poblacion: numpy array, la población de soluciones\n",
        "    :param fitnessPoblacion: numpy array, la evaluación de aptitud de cada solución en la población\n",
        "    :param k: int, el tamaño del torneo\n",
        "    :return: numpy array, la población seleccionada después del torneo\n",
        "    \"\"\"\n",
        "    seleccionados = []\n",
        "    for _ in range(len(poblacion)):\n",
        "        # Seleccionar índices aleatorios para el torneo\n",
        "        indices_torneo = np.random.choice(len(poblacion), k, replace=False)\n",
        "        ganador = indices_torneo[np.argmax(fitnessPoblacion[indices_torneo])]\n",
        "        # Agregar el ganador a los seleccionados\n",
        "        seleccionados.append(poblacion[ganador])\n",
        "\n",
        "    return np.array(seleccionados)"
      ],
      "metadata": {
        "id": "PTCzo5G9REXA"
      },
      "execution_count": 70,
      "outputs": []
    },
    {
      "cell_type": "markdown",
      "source": [
        "# Cruce"
      ],
      "metadata": {
        "id": "Hgkh5ZfdToML"
      }
    },
    {
      "cell_type": "code",
      "source": [
        "def crossover_media_aritmetica(padre1, padre2):\n",
        "    \"\"\"\n",
        "    Crossover basado en la media ponderada de dos padres.\n",
        "    Mantiene la suma de los pesos en 1.\n",
        "\n",
        "    :param padre1: numpy array, individuo padre 1\n",
        "    :param padre2: numpy array, individuo padre 2\n",
        "    :return: numpy array, individuo hijo generado\n",
        "    \"\"\"\n",
        "    hijo = (padre1 + padre2) / 2\n",
        "    # Normalizar para que la suma sea 1\n",
        "    hijo /= np.sum(hijo)\n",
        "    return hijo\n",
        "\n",
        "def crossover_uniforme_normalizado(padre1, padre2):\n",
        "    \"\"\"\n",
        "    Crossover uniforme entre dos padres.\n",
        "    Se seleccionan genes aleatorios de ambos padres y luego se normaliza el resultado.\n",
        "\n",
        "    :param padre1: numpy array, individuo padre 1\n",
        "    :param padre2: numpy array, individuo padre 2\n",
        "    :return: numpy array, individuo hijo generado\n",
        "    \"\"\"\n",
        "    mask = np.random.rand(len(padre1)) > 0.5  # Mascara binaria para seleccionar de ambos padres\n",
        "    hijo1 = np.where(mask, padre1, padre2)\n",
        "    hijo1 /= np.sum(hijo1)  # Normalizar para que la suma sea 1\n",
        "\n",
        "    # Segundo hijo, seleccionando los opuestos de la máscara\n",
        "    hijo2 = np.where(~mask, padre1, padre2)\n",
        "    hijo2 /= np.sum(hijo2)\n",
        "\n",
        "    return hijo1, hijo2\n",
        "\n",
        "def recombinacion_intermedia(padre1, padre2, alpha=0.5):\n",
        "    \"\"\"\n",
        "    Realiza recombinación intermedia entre dos padres, generando dos hijos.\n",
        "\n",
        "    :param padre1: numpy array, individuo padre 1 (array de floats)\n",
        "    :param padre2: numpy array, individuo padre 2 (array de floats)\n",
        "    :param alpha: float, factor de ponderación, usualmente entre 0 y 1\n",
        "    :return: tuple of numpy arrays, los dos hijos generados tras la recombinación\n",
        "    \"\"\"\n",
        "    # Generar valores aleatorios de alpha para cada gen para los hijos\n",
        "    alphas1 = np.random.uniform(-alpha, 1 + alpha, size=len(padre1))\n",
        "    alphas2 = np.random.uniform(-alpha, 1 + alpha, size=len(padre1))\n",
        "\n",
        "    # Hijo 1: combinar los padres usando la recombinación intermedia\n",
        "    hijo1 = alphas1 * padre1 + (1 - alphas1) * padre2\n",
        "    hijo1 /= np.sum(hijo1)  # Normalizar para que la suma sea 1\n",
        "\n",
        "    # Hijo 2: combinar los padres usando la recombinación intermedia, con un segundo conjunto de alphas\n",
        "    hijo2 = alphas2 * padre1 + (1 - alphas2) * padre2\n",
        "    hijo2 /= np.sum(hijo2)  # Normalizar para que la suma sea 1\n",
        "\n",
        "    return hijo1, hijo2\n",
        "\n",
        "def recombinacion_lineal(padre1, padre2, alpha=0.5):\n",
        "    \"\"\"\n",
        "    Realiza recombinación lineal entre dos padres, generando dos hijos.\n",
        "\n",
        "    :param padre1: numpy array, individuo padre 1 (array de floats)\n",
        "    :param padre2: numpy array, individuo padre 2 (array de floats)\n",
        "    :param alpha: float, factor de ponderación entre 0 y 1\n",
        "    :return: tuple of numpy arrays, los dos hijos generados tras la recombinación\n",
        "    \"\"\"\n",
        "    # Hijo 1: interpolación lineal controlada por alpha\n",
        "    hijo1 = alpha * padre1 + (1 - alpha) * padre2\n",
        "    hijo1 /= np.sum(hijo1)  # Normalizar para que la suma sea 1\n",
        "\n",
        "    # Hijo 2: usando 1 - alpha para crear un hijo inverso\n",
        "    hijo2 = (1 - alpha) * padre1 + alpha * padre2\n",
        "    hijo2 /= np.sum(hijo2)  # Normalizar para que la suma sea 1\n",
        "\n",
        "    return hijo1, hijo2\n"
      ],
      "metadata": {
        "id": "-zfh31ZqTls_"
      },
      "execution_count": 28,
      "outputs": []
    },
    {
      "cell_type": "markdown",
      "source": [
        "# Mutaciones"
      ],
      "metadata": {
        "id": "UuPUnCI0WZl_"
      }
    },
    {
      "cell_type": "code",
      "source": [
        "def mutacion_gaussiana_normalizada(individuo, prob_mutacion=0.1, sigma=0.01):\n",
        "    \"\"\"\n",
        "    Aplica mutación gaussiana a un individuo con normalización para mantener la suma en 1.\n",
        "\n",
        "    :param individuo: numpy array, individuo a mutar (array de floats que suman 1)\n",
        "    :param prob_mutacion: float, probabilidad de mutar cada gen de normal entre 0.1 y 0.3\n",
        "    :param sigma: float, desviación estándar de la mutación gaussiana\n",
        "    :return: numpy array, individuo mutado\n",
        "    \"\"\"\n",
        "    # Crear una copia del individuo para no modificar el original\n",
        "    mutante = np.copy(individuo)\n",
        "\n",
        "    # Mutar cada gen con una probabilidad dada\n",
        "    for i in range(len(mutante)):\n",
        "        if np.random.rand() < prob_mutacion:\n",
        "            mutante[i] += np.random.normal(0, sigma)\n",
        "\n",
        "    # Asegurarse de que ningún valor sea negativo (restringir a un rango)\n",
        "    mutante = np.clip(mutante, 0, None)\n",
        "\n",
        "    # Normalizar el individuo para que la suma sea 1\n",
        "    mutante /= np.sum(mutante)\n",
        "\n",
        "    return mutante\n",
        "\n",
        "\n"
      ],
      "metadata": {
        "id": "RBKzDwzEWVn9"
      },
      "execution_count": 29,
      "outputs": []
    },
    {
      "cell_type": "markdown",
      "source": [
        "# Bucle principal"
      ],
      "metadata": {
        "id": "6i5tzKIAXuOR"
      }
    },
    {
      "cell_type": "markdown",
      "source": [
        "## Caracteristicas del bucle\n",
        "\n",
        "1.   Seleccion por torneo k = 2\n",
        "2.   Cruce recombinacion_intermedia\n",
        "3.   Mutación gaussiana\n",
        "4.   Reemplazo generacional\n",
        "\n",
        "\n"
      ],
      "metadata": {
        "id": "qRq1QiR9c3L4"
      }
    },
    {
      "cell_type": "code",
      "source": [
        "num_generaciones = 250\n",
        "\n",
        "iter_por_fase = num_generaciones // 8\n",
        "gen_actual = 0\n",
        "goat = np.zeros(Xtrain.shape[1])\n",
        "poblacion = generate_population(500, X.shape[1])\n",
        "elitismo =  True\n",
        "\n",
        "# print(poblacion[:5])\n",
        "# print(Xtrain.shape)\n",
        "while (num_generaciones > gen_actual):\n",
        "  fitnessPob =  fitness_poblacion(poblacion, umbral = 0.5, metrica = 'acc')\n",
        "  if fitness(goat) < fitness(poblacion[np.argmax(fitnessPob)]):\n",
        "      goat = poblacion[np.argmax(fitnessPob)]\n",
        "\n",
        "  seleccionados = seleccion_torneo(fitnessPob, poblacion, 2 + (gen_actual % iter_por_fase))\n",
        "\n",
        "  hijos = []\n",
        "  for i in range(0, len(seleccionados), 2):\n",
        "    hijo1, hijo2 = recombinacion_intermedia(seleccionados[i], seleccionados[i+1])\n",
        "    hijos.append(hijo1)\n",
        "    hijos.append(hijo2)\n",
        "\n",
        "  for hijo in hijos:\n",
        "    mutacion_gaussiana_normalizada(hijo)\n",
        "\n",
        "  if elitismo:\n",
        "    hijos.pop()\n",
        "    hijos.append(poblacion[np.argmax(fitnessPob)])\n",
        "\n",
        "  poblacion = np.array(hijos)\n",
        "\n",
        "  if gen_actual % 5 == 0:\n",
        "    print(\"Generación {} Mejor fitness de la generación {}\".format(gen_actual, np.max(fitnessPob)))\n",
        "  gen_actual += 1"
      ],
      "metadata": {
        "colab": {
          "base_uri": "https://localhost:8080/"
        },
        "id": "doWov2LrXUjH",
        "outputId": "22600d25-04bf-4196-8042-7e625325a65c"
      },
      "execution_count": 74,
      "outputs": [
        {
          "output_type": "stream",
          "name": "stdout",
          "text": [
            "Generación 0 Mejor fitness de la generación 0.4678680484870917\n",
            "Generación 5 Mejor fitness de la generación 0.5831868233552328\n",
            "Generación 10 Mejor fitness de la generación 0.8728370500601462\n",
            "Generación 15 Mejor fitness de la generación 0.9120477468307578\n",
            "Generación 20 Mejor fitness de la generación 0.9499398537984639\n",
            "Generación 25 Mejor fitness de la generación 1.0\n",
            "Generación 30 Mejor fitness de la generación 1.0\n",
            "Generación 35 Mejor fitness de la generación 1.0\n",
            "Generación 40 Mejor fitness de la generación 1.0\n",
            "Generación 45 Mejor fitness de la generación 1.0\n",
            "Generación 50 Mejor fitness de la generación 1.0\n",
            "Generación 55 Mejor fitness de la generación 1.0\n",
            "Generación 60 Mejor fitness de la generación 1.0\n",
            "Generación 65 Mejor fitness de la generación 1.0\n",
            "Generación 70 Mejor fitness de la generación 1.0\n",
            "Generación 75 Mejor fitness de la generación 1.0\n",
            "Generación 80 Mejor fitness de la generación 1.0\n",
            "Generación 85 Mejor fitness de la generación 1.0\n",
            "Generación 90 Mejor fitness de la generación 1.0\n",
            "Generación 95 Mejor fitness de la generación 1.0\n",
            "Generación 100 Mejor fitness de la generación 1.0\n",
            "Generación 105 Mejor fitness de la generación 1.0\n",
            "Generación 110 Mejor fitness de la generación 1.0\n",
            "Generación 115 Mejor fitness de la generación 1.0\n",
            "Generación 120 Mejor fitness de la generación 1.0\n",
            "Generación 125 Mejor fitness de la generación 1.0\n",
            "Generación 130 Mejor fitness de la generación 1.0\n",
            "Generación 135 Mejor fitness de la generación 1.0\n",
            "Generación 140 Mejor fitness de la generación 1.0\n",
            "Generación 145 Mejor fitness de la generación 1.0\n",
            "Generación 150 Mejor fitness de la generación 1.0\n",
            "Generación 155 Mejor fitness de la generación 1.0\n",
            "Generación 160 Mejor fitness de la generación 1.0\n",
            "Generación 165 Mejor fitness de la generación 1.0\n",
            "Generación 170 Mejor fitness de la generación 1.0\n",
            "Generación 175 Mejor fitness de la generación 1.0\n",
            "Generación 180 Mejor fitness de la generación 1.0\n",
            "Generación 185 Mejor fitness de la generación 1.0\n",
            "Generación 190 Mejor fitness de la generación 1.0\n",
            "Generación 195 Mejor fitness de la generación 1.0\n",
            "Generación 200 Mejor fitness de la generación 1.0\n",
            "Generación 205 Mejor fitness de la generación 1.0\n",
            "Generación 210 Mejor fitness de la generación 1.0\n",
            "Generación 215 Mejor fitness de la generación 1.0\n",
            "Generación 220 Mejor fitness de la generación 1.0\n",
            "Generación 225 Mejor fitness de la generación 1.0\n",
            "Generación 230 Mejor fitness de la generación 1.0\n",
            "Generación 235 Mejor fitness de la generación 1.0\n",
            "Generación 240 Mejor fitness de la generación 1.0\n",
            "Generación 245 Mejor fitness de la generación 1.0\n"
          ]
        }
      ]
    },
    {
      "cell_type": "code",
      "source": [
        "from sklearn.metrics import f1_score\n",
        "\n",
        "\n",
        "pred = np.dot(Xtest, goat.T)\n",
        "y_pred = (pred >= 0.5).astype(int)\n",
        "\n",
        "print(f1_score(y_pred, Ytest))\n"
      ],
      "metadata": {
        "colab": {
          "base_uri": "https://localhost:8080/"
        },
        "id": "AE29MKkCcIWf",
        "outputId": "0feeefbb-b83e-41df-8114-b3194ff90564"
      },
      "execution_count": 24,
      "outputs": [
        {
          "output_type": "stream",
          "name": "stdout",
          "text": [
            "0.98989898989899\n"
          ]
        }
      ]
    },
    {
      "cell_type": "code",
      "source": [
        "print(goat)"
      ],
      "metadata": {
        "colab": {
          "base_uri": "https://localhost:8080/"
        },
        "id": "N5TI4it0sMvc",
        "outputId": "0438594a-4fe0-49eb-e5af-c10c99862f48"
      },
      "execution_count": 25,
      "outputs": [
        {
          "output_type": "stream",
          "name": "stdout",
          "text": [
            "[ 0.22021222  0.25055778  0.19142209  0.072708    0.08109885  0.25362783\n",
            "  0.08947144  0.10764373  0.36079098  0.16308954  0.12104725  0.04053868\n",
            "  0.06462479  0.24655554  0.17440852 -0.53965882 -0.39151064 -0.50662778]\n"
          ]
        }
      ]
    },
    {
      "cell_type": "code",
      "source": [
        "\n",
        "pred = np.dot(Xtest, goat.T)\n",
        "y_pred = (pred >= 0.5).astype(int)\n",
        "\n",
        "print(f1_score(y_pred, Ytest))"
      ],
      "metadata": {
        "colab": {
          "base_uri": "https://localhost:8080/"
        },
        "id": "ZUabbJ3Gex7E",
        "outputId": "28f2c623-d04d-4468-f64a-9f451cba13d5"
      },
      "execution_count": 27,
      "outputs": [
        {
          "output_type": "stream",
          "name": "stdout",
          "text": [
            "0.9696969696969697\n"
          ]
        }
      ]
    },
    {
      "cell_type": "code",
      "source": [
        "pred = np.dot(Xtest, goat.T)\n",
        "y_pred = (pred >= 0.5).astype(int)\n",
        "\n",
        "print(f1_score(y_pred, Ytest))"
      ],
      "metadata": {
        "colab": {
          "base_uri": "https://localhost:8080/"
        },
        "id": "9WcArHwtgFST",
        "outputId": "04f3f61f-d62f-4bea-88ea-a4e3dbe9767c"
      },
      "execution_count": 75,
      "outputs": [
        {
          "output_type": "stream",
          "name": "stdout",
          "text": [
            "1.0\n"
          ]
        }
      ]
    }
  ]
}